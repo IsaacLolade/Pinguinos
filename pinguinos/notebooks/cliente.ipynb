{
 "cells": [
  {
   "cell_type": "code",
   "execution_count": 45,
   "metadata": {},
   "outputs": [
    {
     "name": "stdout",
     "output_type": "stream",
     "text": [
      "{\n",
      "  \"pinguino\": \"Adelie\",\n",
      "  \"probabilidad\": 0.9986907626006299\n",
      "}\n"
     ]
    },
    {
     "name": "stderr",
     "output_type": "stream",
     "text": [
      "  % Total    % Received % Xferd  Average Speed   Time    Time     Time  Current\n",
      "                                 Dload  Upload   Total   Spent    Left  Speed\n",
      "\n",
      "  0     0    0     0    0     0      0      0 --:--:-- --:--:-- --:--:--     0\n",
      "100   199  100    65  100   134   3580   7380 --:--:-- --:--:-- --:--:-- 11055\n"
     ]
    }
   ],
   "source": [
    "!curl --request POST \"http://127.0.0.1:8000/predict_lr\" \\\n",
    "--header \"Content-Type: application/json\" \\\n",
    "--data-raw \"{\\\"island\\\": \\\"Torgersen\\\", \\\"bill_length_mm\\\": 39.5, \\\"bill_depth_mm\\\": 17.4, \\\"flipper_length_mm\\\": 186, \\\"body_mass_g\\\": 3800, \\\"sex\\\": \\\"Female\\\"}\"\n"
   ]
  },
  {
   "cell_type": "code",
   "execution_count": 46,
   "metadata": {},
   "outputs": [
    {
     "name": "stdout",
     "output_type": "stream",
     "text": [
      "{\n",
      "  \"pinguino\": \"Chinstrap\",\n",
      "  \"probabilidad\": 0.9284075716249185\n",
      "}\n"
     ]
    },
    {
     "name": "stderr",
     "output_type": "stream",
     "text": [
      "  % Total    % Received % Xferd  Average Speed   Time    Time     Time  Current\n",
      "                                 Dload  Upload   Total   Spent    Left  Speed\n",
      "\n",
      "  0     0    0     0    0     0      0      0 --:--:-- --:--:-- --:--:--     0\n",
      "100   195  100    68  100   127  14724  27501 --:--:-- --:--:-- --:--:-- 48750\n"
     ]
    }
   ],
   "source": [
    "!curl --request POST \"http://127.0.0.1:8000/predict_lr\" \\\n",
    "--header \"Content-Type: application/json\" \\\n",
    "--data-raw \"{\\\"island\\\": \\\"Dream\\\", \\\"bill_length_mm\\\":49.0, \\\"bill_depth_mm\\\": 19.5, \\\"flipper_length_mm\\\": 210, \\\"body_mass_g\\\": 3950, \\\"sex\\\": \\\"Male\\\"}\""
   ]
  },
  {
   "cell_type": "code",
   "execution_count": 49,
   "metadata": {},
   "outputs": [
    {
     "name": "stdout",
     "output_type": "stream",
     "text": [
      "{\n",
      "  \"pinguino\": \"Adelie\",\n",
      "  \"probabilidad\": 0.26015990226012337\n",
      "}\n"
     ]
    },
    {
     "name": "stderr",
     "output_type": "stream",
     "text": [
      "  % Total    % Received % Xferd  Average Speed   Time    Time     Time  Current\n",
      "                                 Dload  Upload   Total   Spent    Left  Speed\n",
      "\n",
      "  0     0    0     0    0     0      0      0 --:--:-- --:--:-- --:--:--     0\n",
      "100   200  100    66  100   134  13171  26741 --:--:-- --:--:-- --:--:-- 50000\n"
     ]
    }
   ],
   "source": [
    "!curl --request POST \"http://127.0.0.1:8000/predict_svm\" \\\n",
    "--header \"Content-Type: application/json\" \\\n",
    "--data-raw \"{\\\"island\\\": \\\"Torgersen\\\", \\\"bill_length_mm\\\": 39.5, \\\"bill_depth_mm\\\": 17.4, \\\"flipper_length_mm\\\": 186, \\\"body_mass_g\\\": 3800, \\\"sex\\\": \\\"Female\\\"}\"\n"
   ]
  },
  {
   "cell_type": "code",
   "execution_count": 50,
   "metadata": {},
   "outputs": [
    {
     "name": "stdout",
     "output_type": "stream",
     "text": [
      "{\n",
      "  \"pinguino\": \"Adelie\",\n",
      "  \"probabilidad\": 0.016921040682475397\n",
      "}\n"
     ]
    },
    {
     "name": "stderr",
     "output_type": "stream",
     "text": [
      "  % Total    % Received % Xferd  Average Speed   Time    Time     Time  Current\n",
      "                                 Dload  Upload   Total   Spent    Left  Speed\n",
      "\n",
      "  0     0    0     0    0     0      0      0 --:--:-- --:--:-- --:--:--     0\n",
      "100   194  100    67  100   127  18662  35376 --:--:-- --:--:-- --:--:-- 64666\n"
     ]
    }
   ],
   "source": [
    "!curl --request POST \"http://127.0.0.1:8000/predict_svm\" \\\n",
    "--header \"Content-Type: application/json\" \\\n",
    "--data-raw \"{\\\"island\\\": \\\"Dream\\\", \\\"bill_length_mm\\\":49.0, \\\"bill_depth_mm\\\": 19.5, \\\"flipper_length_mm\\\": 210, \\\"body_mass_g\\\": 3950, \\\"sex\\\": \\\"Male\\\"}\""
   ]
  },
  {
   "cell_type": "code",
   "execution_count": 30,
   "metadata": {},
   "outputs": [
    {
     "name": "stdout",
     "output_type": "stream",
     "text": [
      "{\n",
      "  \"pinguino\": \"Adelie\",\n",
      "  \"probabilidad\": 1.0\n",
      "}\n"
     ]
    },
    {
     "name": "stderr",
     "output_type": "stream",
     "text": [
      "  % Total    % Received % Xferd  Average Speed   Time    Time     Time  Current\n",
      "                                 Dload  Upload   Total   Spent    Left  Speed\n",
      "\n",
      "  0     0    0     0    0     0      0      0 --:--:-- --:--:-- --:--:--     0\n",
      "100   184  100    50  100   134   4124  11053 --:--:-- --:--:-- --:--:-- 15333\n"
     ]
    }
   ],
   "source": [
    "!curl --request POST \"http://127.0.0.1:8000/predict_dt\" \\\n",
    "--header \"Content-Type: application/json\" \\\n",
    "--data-raw \"{\\\"island\\\": \\\"Torgersen\\\", \\\"bill_length_mm\\\": 39.5, \\\"bill_depth_mm\\\": 17.4, \\\"flipper_length_mm\\\": 186, \\\"body_mass_g\\\": 3800, \\\"sex\\\": \\\"Female\\\"}\"\n"
   ]
  },
  {
   "cell_type": "code",
   "execution_count": 31,
   "metadata": {},
   "outputs": [
    {
     "name": "stdout",
     "output_type": "stream",
     "text": [
      "{\n",
      "  \"pinguino\": \"Chinstrap\",\n",
      "  \"probabilidad\": 1.0\n",
      "}\n"
     ]
    },
    {
     "name": "stderr",
     "output_type": "stream",
     "text": [
      "  % Total    % Received % Xferd  Average Speed   Time    Time     Time  Current\n",
      "                                 Dload  Upload   Total   Spent    Left  Speed\n",
      "\n",
      "  0     0    0     0    0     0      0      0 --:--:-- --:--:-- --:--:--     0\n",
      "100   180  100    53  100   127  12955  31043 --:--:-- --:--:-- --:--:-- 45000\n"
     ]
    }
   ],
   "source": [
    "!curl --request POST \"http://127.0.0.1:8000/predict_dt\" \\\n",
    "--header \"Content-Type: application/json\" \\\n",
    "--data-raw \"{\\\"island\\\": \\\"Dream\\\", \\\"bill_length_mm\\\":49.0, \\\"bill_depth_mm\\\": 19.5, \\\"flipper_length_mm\\\": 210, \\\"body_mass_g\\\": 3950, \\\"sex\\\": \\\"Male\\\"}\""
   ]
  },
  {
   "cell_type": "code",
   "execution_count": 51,
   "metadata": {},
   "outputs": [
    {
     "name": "stdout",
     "output_type": "stream",
     "text": [
      "{"
     ]
    },
    {
     "name": "stderr",
     "output_type": "stream",
     "text": [
      "  % Total    % Received % Xferd  Average Speed   Time    Time     Time  Current\n",
      "                                 Dload  Upload   Total   Spent    Left  Speed\n",
      "\n",
      "  0     0    0     0    0     0      0      0 --:--:-- --:--:-- --:--:--     0\n",
      "100   179  100    50  100   129    268    691 --:--:-- --:--:-- --:--:--   957\n",
      "100   179  100    50  100   129    267    691 --:--:-- --:--:-- --:--:--   957\n"
     ]
    },
    {
     "name": "stdout",
     "output_type": "stream",
     "text": [
      "\n",
      "  \"pinguino\": \"Adelie\",\n",
      "  \"probabilidad\": 0.7\n",
      "}\n"
     ]
    }
   ],
   "source": [
    "!curl --request POST \"http://127.0.0.1:8000/predict_knn\" \\\n",
    "--header \"Content-Type: application/json\" \\\n",
    "--data-raw \"{\\\"island\\\": \\\"Biscoe\\\", \\\"bill_length_mm\\\": 40.5, \\\"bill_depth_mm\\\": 18.0, \\\"flipper_length_mm\\\": 190, \\\"body_mass_g\\\": 3800, \\\"sex\\\": \\\"Male\\\"}\"\n"
   ]
  },
  {
   "cell_type": "code",
   "execution_count": 52,
   "metadata": {},
   "outputs": [
    {
     "name": "stdout",
     "output_type": "stream",
     "text": [
      "{\n",
      "  \"pinguino\": \"Adelie\",\n",
      "  \"probabilidad\": 0.5\n",
      "}\n"
     ]
    },
    {
     "name": "stderr",
     "output_type": "stream",
     "text": [
      "  % Total    % Received % Xferd  Average Speed   Time    Time     Time  Current\n",
      "                                 Dload  Upload   Total   Spent    Left  Speed\n",
      "\n",
      "  0     0    0     0    0     0      0      0 --:--:-- --:--:-- --:--:--     0\n",
      "100   177  100    50  100   127   8037  20414 --:--:-- --:--:-- --:--:-- 29500\n"
     ]
    }
   ],
   "source": [
    "!curl --request POST \"http://127.0.0.1:8000/predict_knn\" \\\n",
    "--header \"Content-Type: application/json\" \\\n",
    "--data-raw \"{\\\"island\\\": \\\"Dream\\\", \\\"bill_length_mm\\\":49.0, \\\"bill_depth_mm\\\": 19.5, \\\"flipper_length_mm\\\": 210, \\\"body_mass_g\\\": 3950, \\\"sex\\\": \\\"Male\\\"}\""
   ]
  }
 ],
 "metadata": {
  "kernelspec": {
   "display_name": ".venv",
   "language": "python",
   "name": "python3"
  },
  "language_info": {
   "codemirror_mode": {
    "name": "ipython",
    "version": 3
   },
   "file_extension": ".py",
   "mimetype": "text/x-python",
   "name": "python",
   "nbconvert_exporter": "python",
   "pygments_lexer": "ipython3",
   "version": "3.12.6"
  }
 },
 "nbformat": 4,
 "nbformat_minor": 2
}
