{
 "cells": [
  {
   "cell_type": "code",
   "execution_count": 26,
   "metadata": {},
   "outputs": [
    {
     "name": "stdout",
     "output_type": "stream",
     "text": [
      "{\n",
      "  \"pinguino\": \"Adelie\",\n",
      "  \"probabilidad\": 0.9999923510470496\n",
      "}\n"
     ]
    },
    {
     "name": "stderr",
     "output_type": "stream",
     "text": [
      "  % Total    % Received % Xferd  Average Speed   Time    Time     Time  Current\n",
      "                                 Dload  Upload   Total   Spent    Left  Speed\n",
      "\n",
      "  0     0    0     0    0     0      0      0 --:--:-- --:--:-- --:--:--     0\n",
      "100   199  100    65  100   134   2468   5088 --:--:-- --:--:-- --:--:--  7653\n"
     ]
    }
   ],
   "source": [
    "!curl --request POST \"http://127.0.0.1:8000/predict_lr\" \\\n",
    "--header \"Content-Type: application/json\" \\\n",
    "--data-raw \"{\\\"island\\\": \\\"Torgersen\\\", \\\"bill_length_mm\\\": 39.5, \\\"bill_depth_mm\\\": 17.4, \\\"flipper_length_mm\\\": 186, \\\"body_mass_g\\\": 3800, \\\"sex\\\": \\\"Female\\\"}\"\n"
   ]
  },
  {
   "cell_type": "code",
   "execution_count": 27,
   "metadata": {},
   "outputs": [
    {
     "name": "stdout",
     "output_type": "stream",
     "text": [
      "{\n",
      "  \"pinguino\": \"Chinstrap\",\n",
      "  \"probabilidad\": 0.9998878407903168\n",
      "}\n"
     ]
    },
    {
     "name": "stderr",
     "output_type": "stream",
     "text": [
      "  % Total    % Received % Xferd  Average Speed   Time    Time     Time  Current\n",
      "                                 Dload  Upload   Total   Spent    Left  Speed\n",
      "\n",
      "  0     0    0     0    0     0      0      0 --:--:-- --:--:-- --:--:--     0\n",
      "100   195  100    68  100   127  17245  32208 --:--:-- --:--:-- --:--:-- 65000\n"
     ]
    }
   ],
   "source": [
    "!curl --request POST \"http://127.0.0.1:8000/predict_lr\" \\\n",
    "--header \"Content-Type: application/json\" \\\n",
    "--data-raw \"{\\\"island\\\": \\\"Dream\\\", \\\"bill_length_mm\\\":49.0, \\\"bill_depth_mm\\\": 19.5, \\\"flipper_length_mm\\\": 210, \\\"body_mass_g\\\": 3950, \\\"sex\\\": \\\"Male\\\"}\""
   ]
  },
  {
   "cell_type": "code",
   "execution_count": 28,
   "metadata": {},
   "outputs": [
    {
     "name": "stdout",
     "output_type": "stream",
     "text": [
      "{\n",
      "  \"pinguino\": \"Chinstrap\",\n",
      "  \"probabilidad\": 0.9764700663715548\n",
      "}\n"
     ]
    },
    {
     "name": "stderr",
     "output_type": "stream",
     "text": [
      "  % Total    % Received % Xferd  Average Speed   Time    Time     Time  Current\n",
      "                                 Dload  Upload   Total   Spent    Left  Speed\n",
      "\n",
      "  0     0    0     0    0     0      0      0 --:--:-- --:--:-- --:--:--     0\n",
      "100   195  100    68  100   127   4588   8569 --:--:-- --:--:-- --:--:-- 13928\n"
     ]
    }
   ],
   "source": [
    "!curl --request POST \"http://127.0.0.1:8000/predict_svm\" \\\n",
    "--header \"Content-Type: application/json\" \\\n",
    "--data-raw \"{\\\"island\\\": \\\"Dream\\\", \\\"bill_length_mm\\\":49.0, \\\"bill_depth_mm\\\": 19.5, \\\"flipper_length_mm\\\": 210, \\\"body_mass_g\\\": 3950, \\\"sex\\\": \\\"Male\\\"}\""
   ]
  },
  {
   "cell_type": "code",
   "execution_count": 29,
   "metadata": {},
   "outputs": [
    {
     "name": "stdout",
     "output_type": "stream",
     "text": [
      "{\n",
      "  \"pinguino\": \"Adelie\",\n",
      "  \"probabilidad\": 0.9867811109119864\n",
      "}\n"
     ]
    },
    {
     "name": "stderr",
     "output_type": "stream",
     "text": [
      "  % Total    % Received % Xferd  Average Speed   Time    Time     Time  Current\n",
      "                                 Dload  Upload   Total   Spent    Left  Speed\n",
      "\n",
      "  0     0    0     0    0     0      0      0 --:--:-- --:--:-- --:--:--     0\n",
      "100   194  100    65  100   129  15935  31625 --:--:-- --:--:-- --:--:-- 48500\n"
     ]
    }
   ],
   "source": [
    "!curl --request POST \"http://127.0.0.1:8000/predict_svm\" \\\n",
    "--header \"Content-Type: application/json\" \\\n",
    "--data-raw \"{\\\"island\\\": \\\"Biscoe\\\", \\\"bill_length_mm\\\": 40.5, \\\"bill_depth_mm\\\": 18.0, \\\"flipper_length_mm\\\": 190, \\\"body_mass_g\\\": 3800, \\\"sex\\\": \\\"Male\\\"}\"\n"
   ]
  },
  {
   "cell_type": "code",
   "execution_count": 30,
   "metadata": {},
   "outputs": [
    {
     "name": "stdout",
     "output_type": "stream",
     "text": [
      "{\n",
      "  \"pinguino\": \"Adelie\",\n",
      "  \"probabilidad\": 1.0\n",
      "}\n"
     ]
    },
    {
     "name": "stderr",
     "output_type": "stream",
     "text": [
      "  % Total    % Received % Xferd  Average Speed   Time    Time     Time  Current\n",
      "                                 Dload  Upload   Total   Spent    Left  Speed\n",
      "\n",
      "  0     0    0     0    0     0      0      0 --:--:-- --:--:-- --:--:--     0\n",
      "100   184  100    50  100   134   4124  11053 --:--:-- --:--:-- --:--:-- 15333\n"
     ]
    }
   ],
   "source": [
    "!curl --request POST \"http://127.0.0.1:8000/predict_dt\" \\\n",
    "--header \"Content-Type: application/json\" \\\n",
    "--data-raw \"{\\\"island\\\": \\\"Torgersen\\\", \\\"bill_length_mm\\\": 39.5, \\\"bill_depth_mm\\\": 17.4, \\\"flipper_length_mm\\\": 186, \\\"body_mass_g\\\": 3800, \\\"sex\\\": \\\"Female\\\"}\"\n"
   ]
  },
  {
   "cell_type": "code",
   "execution_count": 31,
   "metadata": {},
   "outputs": [
    {
     "name": "stdout",
     "output_type": "stream",
     "text": [
      "{\n",
      "  \"pinguino\": \"Chinstrap\",\n",
      "  \"probabilidad\": 1.0\n",
      "}\n"
     ]
    },
    {
     "name": "stderr",
     "output_type": "stream",
     "text": [
      "  % Total    % Received % Xferd  Average Speed   Time    Time     Time  Current\n",
      "                                 Dload  Upload   Total   Spent    Left  Speed\n",
      "\n",
      "  0     0    0     0    0     0      0      0 --:--:-- --:--:-- --:--:--     0\n",
      "100   180  100    53  100   127  12955  31043 --:--:-- --:--:-- --:--:-- 45000\n"
     ]
    }
   ],
   "source": [
    "!curl --request POST \"http://127.0.0.1:8000/predict_dt\" \\\n",
    "--header \"Content-Type: application/json\" \\\n",
    "--data-raw \"{\\\"island\\\": \\\"Dream\\\", \\\"bill_length_mm\\\":49.0, \\\"bill_depth_mm\\\": 19.5, \\\"flipper_length_mm\\\": 210, \\\"body_mass_g\\\": 3950, \\\"sex\\\": \\\"Male\\\"}\""
   ]
  },
  {
   "cell_type": "code",
   "execution_count": 32,
   "metadata": {},
   "outputs": [
    {
     "name": "stdout",
     "output_type": "stream",
     "text": [
      "{\n",
      "  \"pinguino\": \"Adelie\",\n",
      "  \"probabilidad\": 1.0\n",
      "}\n"
     ]
    },
    {
     "name": "stderr",
     "output_type": "stream",
     "text": [
      "  % Total    % Received % Xferd  Average Speed   Time    Time     Time  Current\n",
      "                                 Dload  Upload   Total   Spent    Left  Speed\n",
      "\n",
      "  0     0    0     0    0     0      0      0 --:--:-- --:--:-- --:--:--     0\n",
      "100   179  100    50  100   129   1752   4521 --:--:-- --:--:-- --:--:--  6392\n"
     ]
    }
   ],
   "source": [
    "!curl --request POST \"http://127.0.0.1:8000/predict_knn\" \\\n",
    "--header \"Content-Type: application/json\" \\\n",
    "--data-raw \"{\\\"island\\\": \\\"Biscoe\\\", \\\"bill_length_mm\\\": 40.5, \\\"bill_depth_mm\\\": 18.0, \\\"flipper_length_mm\\\": 190, \\\"body_mass_g\\\": 3800, \\\"sex\\\": \\\"Male\\\"}\"\n"
   ]
  },
  {
   "cell_type": "code",
   "execution_count": 33,
   "metadata": {},
   "outputs": [
    {
     "name": "stdout",
     "output_type": "stream",
     "text": [
      "{\n",
      "  \"pinguino\": \"Chinstrap\",\n",
      "  \"probabilidad\": 1.0\n",
      "}\n"
     ]
    },
    {
     "name": "stderr",
     "output_type": "stream",
     "text": [
      "  % Total    % Received % Xferd  Average Speed   Time    Time     Time  Current\n",
      "                                 Dload  Upload   Total   Spent    Left  Speed\n",
      "\n",
      "  0     0    0     0    0     0      0      0 --:--:-- --:--:-- --:--:--     0\n",
      "100   180  100    53  100   127   8328  19956 --:--:-- --:--:-- --:--:-- 30000\n"
     ]
    }
   ],
   "source": [
    "!curl --request POST \"http://127.0.0.1:8000/predict_knn\" \\\n",
    "--header \"Content-Type: application/json\" \\\n",
    "--data-raw \"{\\\"island\\\": \\\"Dream\\\", \\\"bill_length_mm\\\":49.0, \\\"bill_depth_mm\\\": 19.5, \\\"flipper_length_mm\\\": 210, \\\"body_mass_g\\\": 3950, \\\"sex\\\": \\\"Male\\\"}\""
   ]
  }
 ],
 "metadata": {
  "kernelspec": {
   "display_name": ".venv",
   "language": "python",
   "name": "python3"
  },
  "language_info": {
   "codemirror_mode": {
    "name": "ipython",
    "version": 3
   },
   "file_extension": ".py",
   "mimetype": "text/x-python",
   "name": "python",
   "nbconvert_exporter": "python",
   "pygments_lexer": "ipython3",
   "version": "3.12.6"
  }
 },
 "nbformat": 4,
 "nbformat_minor": 2
}
