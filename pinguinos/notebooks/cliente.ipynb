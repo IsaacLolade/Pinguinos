{
 "cells": [
  {
   "cell_type": "code",
   "execution_count": 53,
   "metadata": {},
   "outputs": [
    {
     "name": "stdout",
     "output_type": "stream",
     "text": [
      "{\n",
      "  \"pinguino\": \"Adelie\",\n",
      "  \"probabilidad\": 0.9986907626006299\n",
      "}\n"
     ]
    },
    {
     "name": "stderr",
     "output_type": "stream",
     "text": [
      "  % Total    % Received % Xferd  Average Speed   Time    Time     Time  Current\n",
      "                                 Dload  Upload   Total   Spent    Left  Speed\n",
      "\n",
      "  0     0    0     0    0     0      0      0 --:--:-- --:--:-- --:--:--     0\n",
      "100   199  100    65  100   134   2396   4941 --:--:-- --:--:-- --:--:--  7370\n"
     ]
    }
   ],
   "source": [
    "!curl --request POST \"http://127.0.0.1:8000/predict_lr\" \\\n",
    "--header \"Content-Type: application/json\" \\\n",
    "--data-raw \"{\\\"island\\\": \\\"Torgersen\\\", \\\"bill_length_mm\\\": 39.5, \\\"bill_depth_mm\\\": 17.4, \\\"flipper_length_mm\\\": 186, \\\"body_mass_g\\\": 3800, \\\"sex\\\": \\\"Female\\\"}\"\n"
   ]
  },
  {
   "cell_type": "code",
   "execution_count": 54,
   "metadata": {},
   "outputs": [
    {
     "name": "stdout",
     "output_type": "stream",
     "text": [
      "{\n",
      "  \"pinguino\": \"Chinstrap\",\n",
      "  \"probabilidad\": 0.9284075716249185\n",
      "}\n"
     ]
    },
    {
     "name": "stderr",
     "output_type": "stream",
     "text": [
      "  % Total    % Received % Xferd  Average Speed   Time    Time     Time  Current\n",
      "                                 Dload  Upload   Total   Spent    Left  Speed\n",
      "\n",
      "  0     0    0     0    0     0      0      0 --:--:-- --:--:-- --:--:--     0\n",
      "100   195  100    68  100   127  22077  41233 --:--:-- --:--:-- --:--:-- 65000\n"
     ]
    }
   ],
   "source": [
    "!curl --request POST \"http://127.0.0.1:8000/predict_lr\" \\\n",
    "--header \"Content-Type: application/json\" \\\n",
    "--data-raw \"{\\\"island\\\": \\\"Dream\\\", \\\"bill_length_mm\\\":49.0, \\\"bill_depth_mm\\\": 19.5, \\\"flipper_length_mm\\\": 210, \\\"body_mass_g\\\": 3950, \\\"sex\\\": \\\"Male\\\"}\""
   ]
  },
  {
   "cell_type": "code",
   "execution_count": 55,
   "metadata": {},
   "outputs": [
    {
     "name": "stdout",
     "output_type": "stream",
     "text": [
      "{\n",
      "  \"pinguino\": \"Adelie\",\n",
      "  \"probabilidad\": 0.9860168883804739\n",
      "}\n"
     ]
    },
    {
     "name": "stderr",
     "output_type": "stream",
     "text": [
      "  % Total    % Received % Xferd  Average Speed   Time    Time     Time  Current\n",
      "                                 Dload  Upload   Total   Spent    Left  Speed\n",
      "\n",
      "  0     0    0     0    0     0      0      0 --:--:-- --:--:-- --:--:--     0\n",
      "100   199  100    65  100   134   4606   9496 --:--:-- --:--:-- --:--:-- 14214\n"
     ]
    }
   ],
   "source": [
    "!curl --request POST \"http://127.0.0.1:8000/predict_svm\" \\\n",
    "--header \"Content-Type: application/json\" \\\n",
    "--data-raw \"{\\\"island\\\": \\\"Torgersen\\\", \\\"bill_length_mm\\\": 39.5, \\\"bill_depth_mm\\\": 17.4, \\\"flipper_length_mm\\\": 186, \\\"body_mass_g\\\": 3800, \\\"sex\\\": \\\"Female\\\"}\"\n"
   ]
  },
  {
   "cell_type": "code",
   "execution_count": 56,
   "metadata": {},
   "outputs": [
    {
     "name": "stdout",
     "output_type": "stream",
     "text": [
      "{\n",
      "  \"pinguino\": \"Chinstrap\",\n",
      "  \"probabilidad\": 0.9721768839498287\n",
      "}\n"
     ]
    },
    {
     "name": "stderr",
     "output_type": "stream",
     "text": [
      "  % Total    % Received % Xferd  Average Speed   Time    Time     Time  Current\n",
      "                                 Dload  Upload   Total   Spent    Left  Speed\n",
      "\n",
      "  0     0    0     0    0     0      0      0 --:--:-- --:--:-- --:--:--     0\n",
      "100   195  100    68  100   127  16163  30187 --:--:-- --:--:-- --:--:-- 48750\n"
     ]
    }
   ],
   "source": [
    "!curl --request POST \"http://127.0.0.1:8000/predict_svm\" \\\n",
    "--header \"Content-Type: application/json\" \\\n",
    "--data-raw \"{\\\"island\\\": \\\"Dream\\\", \\\"bill_length_mm\\\":49.0, \\\"bill_depth_mm\\\": 19.5, \\\"flipper_length_mm\\\": 210, \\\"body_mass_g\\\": 3950, \\\"sex\\\": \\\"Male\\\"}\""
   ]
  },
  {
   "cell_type": "code",
   "execution_count": 57,
   "metadata": {},
   "outputs": [
    {
     "name": "stdout",
     "output_type": "stream",
     "text": [
      "{\n",
      "  \"pinguino\": \"Adelie\",\n",
      "  \"probabilidad\": 1.0\n",
      "}\n"
     ]
    },
    {
     "name": "stderr",
     "output_type": "stream",
     "text": [
      "  % Total    % Received % Xferd  Average Speed   Time    Time     Time  Current\n",
      "                                 Dload  Upload   Total   Spent    Left  Speed\n",
      "\n",
      "  0     0    0     0    0     0      0      0 --:--:-- --:--:-- --:--:--     0\n",
      "100   184  100    50  100   134    249    667 --:--:-- --:--:-- --:--:--   915\n",
      "100   184  100    50  100   134    248    667 --:--:-- --:--:-- --:--:--   915\n"
     ]
    }
   ],
   "source": [
    "!curl --request POST \"http://127.0.0.1:8000/predict_dt\" \\\n",
    "--header \"Content-Type: application/json\" \\\n",
    "--data-raw \"{\\\"island\\\": \\\"Torgersen\\\", \\\"bill_length_mm\\\": 39.5, \\\"bill_depth_mm\\\": 17.4, \\\"flipper_length_mm\\\": 186, \\\"body_mass_g\\\": 3800, \\\"sex\\\": \\\"Female\\\"}\"\n"
   ]
  },
  {
   "cell_type": "code",
   "execution_count": 58,
   "metadata": {},
   "outputs": [
    {
     "name": "stdout",
     "output_type": "stream",
     "text": [
      "{\n",
      "  \"pinguino\": \"Chinstrap\",\n",
      "  \"probabilidad\": 1.0\n",
      "}\n"
     ]
    },
    {
     "name": "stderr",
     "output_type": "stream",
     "text": [
      "  % Total    % Received % Xferd  Average Speed   Time    Time     Time  Current\n",
      "                                 Dload  Upload   Total   Spent    Left  Speed\n",
      "\n",
      "  0     0    0     0    0     0      0      0 --:--:-- --:--:-- --:--:--     0\n",
      "100   180  100    53  100   127  14963  35855 --:--:-- --:--:-- --:--:-- 60000\n"
     ]
    }
   ],
   "source": [
    "!curl --request POST \"http://127.0.0.1:8000/predict_dt\" \\\n",
    "--header \"Content-Type: application/json\" \\\n",
    "--data-raw \"{\\\"island\\\": \\\"Dream\\\", \\\"bill_length_mm\\\":49.0, \\\"bill_depth_mm\\\": 19.5, \\\"flipper_length_mm\\\": 210, \\\"body_mass_g\\\": 3950, \\\"sex\\\": \\\"Male\\\"}\""
   ]
  },
  {
   "cell_type": "code",
   "execution_count": 59,
   "metadata": {},
   "outputs": [
    {
     "name": "stdout",
     "output_type": "stream",
     "text": [
      "{\n",
      "  \"pinguino\": \"Adelie\",\n",
      "  \"probabilidad\": 1.0\n",
      "}\n"
     ]
    },
    {
     "name": "stderr",
     "output_type": "stream",
     "text": [
      "  % Total    % Received % Xferd  Average Speed   Time    Time     Time  Current\n",
      "                                 Dload  Upload   Total   Spent    Left  Speed\n",
      "\n",
      "  0     0    0     0    0     0      0      0 --:--:-- --:--:-- --:--:--     0\n",
      "100   179  100    50  100   129   2836   7317 --:--:-- --:--:-- --:--:-- 10529\n"
     ]
    }
   ],
   "source": [
    "!curl --request POST \"http://127.0.0.1:8000/predict_knn\" \\\n",
    "--header \"Content-Type: application/json\" \\\n",
    "--data-raw \"{\\\"island\\\": \\\"Biscoe\\\", \\\"bill_length_mm\\\": 40.5, \\\"bill_depth_mm\\\": 18.0, \\\"flipper_length_mm\\\": 190, \\\"body_mass_g\\\": 3800, \\\"sex\\\": \\\"Male\\\"}\"\n"
   ]
  },
  {
   "cell_type": "code",
   "execution_count": 60,
   "metadata": {},
   "outputs": [
    {
     "name": "stdout",
     "output_type": "stream",
     "text": [
      "{\n",
      "  \"pinguino\": \"Chinstrap\",\n",
      "  \"probabilidad\": 0.5\n",
      "}\n"
     ]
    },
    {
     "name": "stderr",
     "output_type": "stream",
     "text": [
      "  % Total    % Received % Xferd  Average Speed   Time    Time     Time  Current\n",
      "                                 Dload  Upload   Total   Spent    Left  Speed\n",
      "\n",
      "  0     0    0     0    0     0      0      0 --:--:-- --:--:-- --:--:--     0\n",
      "100   180  100    53  100   127  10323  24737 --:--:-- --:--:-- --:--:-- 36000\n"
     ]
    }
   ],
   "source": [
    "!curl --request POST \"http://127.0.0.1:8000/predict_knn\" \\\n",
    "--header \"Content-Type: application/json\" \\\n",
    "--data-raw \"{\\\"island\\\": \\\"Dream\\\", \\\"bill_length_mm\\\":49.0, \\\"bill_depth_mm\\\": 19.5, \\\"flipper_length_mm\\\": 210, \\\"body_mass_g\\\": 3950, \\\"sex\\\": \\\"Male\\\"}\""
   ]
  }
 ],
 "metadata": {
  "kernelspec": {
   "display_name": ".venv",
   "language": "python",
   "name": "python3"
  },
  "language_info": {
   "codemirror_mode": {
    "name": "ipython",
    "version": 3
   },
   "file_extension": ".py",
   "mimetype": "text/x-python",
   "name": "python",
   "nbconvert_exporter": "python",
   "pygments_lexer": "ipython3",
   "version": "3.12.6"
  }
 },
 "nbformat": 4,
 "nbformat_minor": 2
}
