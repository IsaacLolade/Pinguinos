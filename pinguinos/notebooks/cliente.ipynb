{
 "cells": [
  {
   "cell_type": "code",
   "execution_count": 14,
   "metadata": {},
   "outputs": [
    {
     "name": "stdout",
     "output_type": "stream",
     "text": [
      "{\n",
      "  \"pinguino\": \"Adelie\",\n",
      "  \"probabilidad\": 0.9538895398648922\n",
      "}\n"
     ]
    },
    {
     "name": "stderr",
     "output_type": "stream",
     "text": [
      "  % Total    % Received % Xferd  Average Speed   Time    Time     Time  Current\n",
      "                                 Dload  Upload   Total   Spent    Left  Speed\n",
      "\n",
      "  0     0    0     0    0     0      0      0 --:--:-- --:--:-- --:--:--     0\n",
      "100   134    0     0  100   134      0    132  0:00:01  0:00:01 --:--:--   132\n",
      "100   199  100    65  100   134     62    128  0:00:01  0:00:01 --:--:--   191\n"
     ]
    }
   ],
   "source": [
    "!curl --request POST \"http://127.0.0.1:8000/predict_lr\" \\\n",
    "--header \"Content-Type: application/json\" \\\n",
    "--data-raw \"{\\\"island\\\": \\\"Torgersen\\\", \\\"bill_length_mm\\\": 39.5, \\\"bill_depth_mm\\\": 17.4, \\\"flipper_length_mm\\\": 186, \\\"body_mass_g\\\": 3800, \\\"sex\\\": \\\"Female\\\"}\"\n"
   ]
  },
  {
   "cell_type": "code",
   "execution_count": 18,
   "metadata": {},
   "outputs": [
    {
     "name": "stdout",
     "output_type": "stream",
     "text": [
      "{\n",
      "  \"pinguino\": \"Chinstrap\",\n",
      "  \"probabilidad\": 0.9005979776162807\n",
      "}\n"
     ]
    },
    {
     "name": "stderr",
     "output_type": "stream",
     "text": [
      "  % Total    % Received % Xferd  Average Speed   Time    Time     Time  Current\n",
      "                                 Dload  Upload   Total   Spent    Left  Speed\n",
      "\n",
      "  0     0    0     0    0     0      0      0 --:--:-- --:--:-- --:--:--     0\n",
      "100   195  100    68  100   127  21026  39270 --:--:-- --:--:-- --:--:-- 65000\n"
     ]
    }
   ],
   "source": [
    "!curl --request POST \"http://127.0.0.1:8000/predict_lr\" \\\n",
    "--header \"Content-Type: application/json\" \\\n",
    "--data-raw \"{\\\"island\\\": \\\"Dream\\\", \\\"bill_length_mm\\\":49.0, \\\"bill_depth_mm\\\": 19.5, \\\"flipper_length_mm\\\": 210, \\\"body_mass_g\\\": 3950, \\\"sex\\\": \\\"Male\\\"}\""
   ]
  },
  {
   "cell_type": "code",
   "execution_count": 16,
   "metadata": {},
   "outputs": [
    {
     "name": "stdout",
     "output_type": "stream",
     "text": [
      "{\n",
      "  \"pinguino\": \"Chinstrap\",\n",
      "  \"probabilidad\": 0.9733438622822965\n",
      "}\n"
     ]
    },
    {
     "name": "stderr",
     "output_type": "stream",
     "text": [
      "  % Total    % Received % Xferd  Average Speed   Time    Time     Time  Current\n",
      "                                 Dload  Upload   Total   Spent    Left  Speed\n",
      "\n",
      "  0     0    0     0    0     0      0      0 --:--:-- --:--:-- --:--:--     0\n",
      "100   195  100    68  100   127  19268  35987 --:--:-- --:--:-- --:--:-- 65000\n"
     ]
    }
   ],
   "source": [
    "!curl --request POST \"http://127.0.0.1:8000/predict_svm\" \\\n",
    "--header \"Content-Type: application/json\" \\\n",
    "--data-raw \"{\\\"island\\\": \\\"Dream\\\", \\\"bill_length_mm\\\":49.0, \\\"bill_depth_mm\\\": 19.5, \\\"flipper_length_mm\\\": 210, \\\"body_mass_g\\\": 3950, \\\"sex\\\": \\\"Male\\\"}\""
   ]
  },
  {
   "cell_type": "code",
   "execution_count": 15,
   "metadata": {},
   "outputs": [
    {
     "name": "stdout",
     "output_type": "stream",
     "text": [
      "{\n",
      "  \"pinguino\": \"Adelie\",\n",
      "  \"probabilidad\": 0.9856139873890954\n",
      "}\n"
     ]
    },
    {
     "name": "stderr",
     "output_type": "stream",
     "text": [
      "  % Total    % Received % Xferd  Average Speed   Time    Time     Time  Current\n",
      "                                 Dload  Upload   Total   Spent    Left  Speed\n",
      "\n",
      "  0     0    0     0    0     0      0      0 --:--:-- --:--:-- --:--:--     0\n",
      "100   194  100    65  100   129  17273  34281 --:--:-- --:--:-- --:--:-- 64666\n"
     ]
    }
   ],
   "source": [
    "!curl --request POST \"http://127.0.0.1:8000/predict_svm\" \\\n",
    "--header \"Content-Type: application/json\" \\\n",
    "--data-raw \"{\\\"island\\\": \\\"Biscoe\\\", \\\"bill_length_mm\\\": 40.5, \\\"bill_depth_mm\\\": 18.0, \\\"flipper_length_mm\\\": 190, \\\"body_mass_g\\\": 3800, \\\"sex\\\": \\\"Male\\\"}\"\n"
   ]
  },
  {
   "cell_type": "code",
   "execution_count": 24,
   "metadata": {},
   "outputs": [
    {
     "name": "stdout",
     "output_type": "stream",
     "text": [
      "{\n",
      "  \"pinguino\": \"Adelie\",\n",
      "  \"probabilidad\": 1.0\n",
      "}\n"
     ]
    },
    {
     "name": "stderr",
     "output_type": "stream",
     "text": [
      "  % Total    % Received % Xferd  Average Speed   Time    Time     Time  Current\n",
      "                                 Dload  Upload   Total   Spent    Left  Speed\n",
      "\n",
      "  0     0    0     0    0     0      0      0 --:--:-- --:--:-- --:--:--     0\n",
      "100   184  100    50  100   134   4771  12787 --:--:-- --:--:-- --:--:-- 18400\n"
     ]
    }
   ],
   "source": [
    "!curl --request POST \"http://127.0.0.1:8000/predict_dt\" \\\n",
    "--header \"Content-Type: application/json\" \\\n",
    "--data-raw \"{\\\"island\\\": \\\"Torgersen\\\", \\\"bill_length_mm\\\": 39.5, \\\"bill_depth_mm\\\": 17.4, \\\"flipper_length_mm\\\": 186, \\\"body_mass_g\\\": 3800, \\\"sex\\\": \\\"Female\\\"}\"\n"
   ]
  },
  {
   "cell_type": "code",
   "execution_count": 25,
   "metadata": {},
   "outputs": [
    {
     "name": "stdout",
     "output_type": "stream",
     "text": [
      "{"
     ]
    },
    {
     "name": "stderr",
     "output_type": "stream",
     "text": [
      "  % Total    % Received % Xferd  Average Speed   Time    Time     Time  Current\n",
      "                                 Dload  Upload   Total   Spent    Left  Speed\n",
      "\n",
      "  0     0    0     0    0     0      0      0 --:--:-- --:--:-- --:--:--     0\n",
      "100   180  100    53  100   127  16060  38484 --:--:-- --:--:-- --:--:-- 60000\n"
     ]
    },
    {
     "name": "stdout",
     "output_type": "stream",
     "text": [
      "\n",
      "  \"pinguino\": \"Chinstrap\",\n",
      "  \"probabilidad\": 1.0\n",
      "}\n"
     ]
    }
   ],
   "source": [
    "!curl --request POST \"http://127.0.0.1:8000/predict_dt\" \\\n",
    "--header \"Content-Type: application/json\" \\\n",
    "--data-raw \"{\\\"island\\\": \\\"Dream\\\", \\\"bill_length_mm\\\":49.0, \\\"bill_depth_mm\\\": 19.5, \\\"flipper_length_mm\\\": 210, \\\"body_mass_g\\\": 3950, \\\"sex\\\": \\\"Male\\\"}\""
   ]
  },
  {
   "cell_type": "code",
   "execution_count": 22,
   "metadata": {},
   "outputs": [
    {
     "name": "stdout",
     "output_type": "stream",
     "text": [
      "{"
     ]
    },
    {
     "name": "stderr",
     "output_type": "stream",
     "text": [
      "  % Total    % Received % Xferd  Average Speed   Time    Time     Time  Current\n",
      "                                 Dload  Upload   Total   Spent    Left  Speed\n",
      "\n",
      "  0     0    0     0    0     0      0      0 --:--:-- --:--:-- --:--:--     0\n",
      "100   179  100    50  100   129   4376  11292 --:--:-- --:--:-- --:--:-- 16272\n"
     ]
    },
    {
     "name": "stdout",
     "output_type": "stream",
     "text": [
      "\n",
      "  \"pinguino\": \"Adelie\",\n",
      "  \"probabilidad\": 1.0\n",
      "}\n"
     ]
    }
   ],
   "source": [
    "!curl --request POST \"http://127.0.0.1:8000/predict_knn\" \\\n",
    "--header \"Content-Type: application/json\" \\\n",
    "--data-raw \"{\\\"island\\\": \\\"Biscoe\\\", \\\"bill_length_mm\\\": 40.5, \\\"bill_depth_mm\\\": 18.0, \\\"flipper_length_mm\\\": 190, \\\"body_mass_g\\\": 3800, \\\"sex\\\": \\\"Male\\\"}\"\n"
   ]
  },
  {
   "cell_type": "code",
   "execution_count": 23,
   "metadata": {},
   "outputs": [
    {
     "name": "stdout",
     "output_type": "stream",
     "text": [
      "{\n",
      "  \"pinguino\": \"Chinstrap\",\n",
      "  \"probabilidad\": 1.0\n",
      "}\n"
     ]
    },
    {
     "name": "stderr",
     "output_type": "stream",
     "text": [
      "  % Total    % Received % Xferd  Average Speed   Time    Time     Time  Current\n",
      "                                 Dload  Upload   Total   Spent    Left  Speed\n",
      "\n",
      "  0     0    0     0    0     0      0      0 --:--:-- --:--:-- --:--:--     0\n",
      "100   180  100    53  100   127  11679  27985 --:--:-- --:--:-- --:--:-- 45000\n"
     ]
    }
   ],
   "source": [
    "!curl --request POST \"http://127.0.0.1:8000/predict_knn\" \\\n",
    "--header \"Content-Type: application/json\" \\\n",
    "--data-raw \"{\\\"island\\\": \\\"Dream\\\", \\\"bill_length_mm\\\":49.0, \\\"bill_depth_mm\\\": 19.5, \\\"flipper_length_mm\\\": 210, \\\"body_mass_g\\\": 3950, \\\"sex\\\": \\\"Male\\\"}\""
   ]
  }
 ],
 "metadata": {
  "kernelspec": {
   "display_name": ".venv",
   "language": "python",
   "name": "python3"
  },
  "language_info": {
   "codemirror_mode": {
    "name": "ipython",
    "version": 3
   },
   "file_extension": ".py",
   "mimetype": "text/x-python",
   "name": "python",
   "nbconvert_exporter": "python",
   "pygments_lexer": "ipython3",
   "version": "3.12.6"
  }
 },
 "nbformat": 4,
 "nbformat_minor": 2
}
